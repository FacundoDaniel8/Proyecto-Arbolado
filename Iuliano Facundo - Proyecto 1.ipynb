{
  "nbformat": 4,
  "nbformat_minor": 0,
  "metadata": {
    "colab": {
      "name": "Iuliano Facundo, Basile Augusto, Olmedo Juan Carlos - Proyecto_1 .ipynb",
      "provenance": [],
      "collapsed_sections": []
    },
    "kernelspec": {
      "name": "python3",
      "display_name": "Python 3"
    },
    "language_info": {
      "name": "python"
    }
  },
  "cells": [
    {
      "cell_type": "markdown",
      "metadata": {
        "id": "tGD2opCkeQWq"
      },
      "source": [
        "# Proyecto\n",
        " \n",
        "La Ciudad de Buenos Aires se encuentra desarrollando un sistema de riego por camiones para proveer de agua a los árboles de la ciudad durante épocas de calor y sequía. El área de logística se encuentra analizando los mejores recorridos y que vehículo asignar para cada recorrido, en base a las características de cada especie y su ubicación. Para esto se le solicita al área de Ciencias de Datos que analice el dataset de arbolado público de la ciudad de Buenos Aires para responder las siguientes preguntas:\n",
        " \n",
        "1. ¿Cuántas especies hay en cada comuna? \n",
        "2. ¿Qué especie es la más común en cada comuna y con cuantos ejemplares?\n",
        "3. ¿Existe alguna relación entre el número de la comuna y el diámetro de los árboles? \n",
        "4. ¿Cual es el top 10 de especies que, en promedio, tienen mayor diámetro?¿En que calle hay más ejemplares de cada uno?\n",
        "5. ¿Cual es la calle con más árboles?¿Por cuántas comunas pasa?\n",
        "6. ¿Que caracteristica tiene la columna \"calle_nombre\"?¿y la columna \"nivel_plantera\"?\n",
        " \n",
        "---------------------------------------\n",
        " \n",
        "Realice una exposición de los resultados de estas preguntas, utilizando narrativa y gráficos\n"
      ]
    },
    {
      "cell_type": "markdown",
      "metadata": {
        "id": "3vzyVxC7fIVZ"
      },
      "source": [
        "En el próximo bloque de código importo las librerias necesarias para el proyecto"
      ]
    },
    {
      "cell_type": "code",
      "metadata": {
        "id": "0Z--b8nke4fK"
      },
      "source": [
        "import pandas as pd\n",
        "import matplotlib.pyplot as plt\n",
        "import seaborn as sns\n",
        "from google.colab import files\n",
        "import io"
      ],
      "execution_count": 28,
      "outputs": []
    },
    {
      "cell_type": "markdown",
      "metadata": {
        "id": "twr1FiEDfN0K"
      },
      "source": [
        "En los próximos códigos importo el set de datos con el que vamos a trabajar"
      ]
    },
    {
      "cell_type": "code",
      "metadata": {
        "colab": {
          "resources": {
            "http://localhost:8080/nbextensions/google.colab/files.js": {
              "data": "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",
              "ok": true,
              "headers": [
                [
                  "content-type",
                  "application/javascript"
                ]
              ],
              "status": 200,
              "status_text": ""
            }
          },
          "base_uri": "https://localhost:8080/",
          "height": 73
        },
        "id": "vS8RKQ4fe7B5",
        "outputId": "47931ef3-fd02-462a-8e00-6a69e91e5673"
      },
      "source": [
        "filesUploaded = files.upload()"
      ],
      "execution_count": 29,
      "outputs": [
        {
          "output_type": "display_data",
          "data": {
            "text/html": [
              "\n",
              "     <input type=\"file\" id=\"files-7bfae24e-3efd-428c-8343-21c82da78792\" name=\"files[]\" multiple disabled\n",
              "        style=\"border:none\" />\n",
              "     <output id=\"result-7bfae24e-3efd-428c-8343-21c82da78792\">\n",
              "      Upload widget is only available when the cell has been executed in the\n",
              "      current browser session. Please rerun this cell to enable.\n",
              "      </output>\n",
              "      <script src=\"/nbextensions/google.colab/files.js\"></script> "
            ],
            "text/plain": [
              "<IPython.core.display.HTML object>"
            ]
          },
          "metadata": {
            "tags": []
          }
        },
        {
          "output_type": "stream",
          "text": [
            "Saving arbolado-publico-lineal-2017-2018.csv to arbolado-publico-lineal-2017-2018 (3).csv\n"
          ],
          "name": "stdout"
        }
      ]
    },
    {
      "cell_type": "code",
      "metadata": {
        "id": "8r9vwVuve-8Z",
        "colab": {
          "base_uri": "https://localhost:8080/",
          "height": 528
        },
        "outputId": "d7550800-8f5f-470e-95ec-d39d7ad293e2"
      },
      "source": [
        "trees = pd.read_csv(io.BytesIO(filesUploaded[\"arbolado-publico-lineal-2017-2018.csv\"]))\n",
        "trees"
      ],
      "execution_count": 36,
      "outputs": [
        {
          "output_type": "stream",
          "text": [
            "/usr/local/lib/python3.7/dist-packages/IPython/core/interactiveshell.py:2718: DtypeWarning: Columns (2,7,8) have mixed types.Specify dtype option on import or set low_memory=False.\n",
            "  interactivity=interactivity, compiler=compiler, result=result)\n"
          ],
          "name": "stderr"
        },
        {
          "output_type": "execute_result",
          "data": {
            "text/html": [
              "<div>\n",
              "<style scoped>\n",
              "    .dataframe tbody tr th:only-of-type {\n",
              "        vertical-align: middle;\n",
              "    }\n",
              "\n",
              "    .dataframe tbody tr th {\n",
              "        vertical-align: top;\n",
              "    }\n",
              "\n",
              "    .dataframe thead th {\n",
              "        text-align: right;\n",
              "    }\n",
              "</style>\n",
              "<table border=\"1\" class=\"dataframe\">\n",
              "  <thead>\n",
              "    <tr style=\"text-align: right;\">\n",
              "      <th></th>\n",
              "      <th>long</th>\n",
              "      <th>lat</th>\n",
              "      <th>nro_registro</th>\n",
              "      <th>tipo_activ</th>\n",
              "      <th>comuna</th>\n",
              "      <th>manzana</th>\n",
              "      <th>calle_nombre</th>\n",
              "      <th>calle_altura</th>\n",
              "      <th>calle_chapa</th>\n",
              "      <th>direccion_normalizada</th>\n",
              "      <th>ubicacion</th>\n",
              "      <th>nombre_cientifico</th>\n",
              "      <th>ancho_acera</th>\n",
              "      <th>estado_plantera</th>\n",
              "      <th>ubicacion_plantera</th>\n",
              "      <th>nivel_plantera</th>\n",
              "      <th>diametro_altura_pecho</th>\n",
              "      <th>altura_arbol</th>\n",
              "    </tr>\n",
              "  </thead>\n",
              "  <tbody>\n",
              "    <tr>\n",
              "      <th>0</th>\n",
              "      <td>-58.378563</td>\n",
              "      <td>-34.594902</td>\n",
              "      <td>26779</td>\n",
              "      <td>Lineal</td>\n",
              "      <td>1</td>\n",
              "      <td>NaN</td>\n",
              "      <td>Esmeralda</td>\n",
              "      <td>1000</td>\n",
              "      <td>1120</td>\n",
              "      <td>ESMERALDA 1120</td>\n",
              "      <td>NaN</td>\n",
              "      <td>Tipuana tipu</td>\n",
              "      <td>5.5</td>\n",
              "      <td>Ocupada</td>\n",
              "      <td>Regular</td>\n",
              "      <td>A nivel</td>\n",
              "      <td>88.0</td>\n",
              "      <td>34.0</td>\n",
              "    </tr>\n",
              "    <tr>\n",
              "      <th>1</th>\n",
              "      <td>-58.381532</td>\n",
              "      <td>-34.592319</td>\n",
              "      <td>30887</td>\n",
              "      <td>Lineal</td>\n",
              "      <td>1</td>\n",
              "      <td>NaN</td>\n",
              "      <td>Pellegrini Carlos</td>\n",
              "      <td>1300</td>\n",
              "      <td>1345</td>\n",
              "      <td>PELLEGRINI, CARLOS 1345</td>\n",
              "      <td>Exacta</td>\n",
              "      <td>Peltophorum dubium</td>\n",
              "      <td>4.5</td>\n",
              "      <td>Ocupada</td>\n",
              "      <td>Regular</td>\n",
              "      <td>Elevada</td>\n",
              "      <td>6.0</td>\n",
              "      <td>5.0</td>\n",
              "    </tr>\n",
              "    <tr>\n",
              "      <th>2</th>\n",
              "      <td>-58.379103</td>\n",
              "      <td>-34.591939</td>\n",
              "      <td>30904</td>\n",
              "      <td>Lineal</td>\n",
              "      <td>1</td>\n",
              "      <td>NaN</td>\n",
              "      <td>Arroyo</td>\n",
              "      <td>800</td>\n",
              "      <td>848</td>\n",
              "      <td>ARROYO 848</td>\n",
              "      <td>Exacta</td>\n",
              "      <td>Fraxinus pennsylvanica</td>\n",
              "      <td>4</td>\n",
              "      <td>Ocupada</td>\n",
              "      <td>Regular</td>\n",
              "      <td>A nivel</td>\n",
              "      <td>7.0</td>\n",
              "      <td>6.0</td>\n",
              "    </tr>\n",
              "    <tr>\n",
              "      <th>3</th>\n",
              "      <td>-58.380710</td>\n",
              "      <td>-34.591548</td>\n",
              "      <td>31336</td>\n",
              "      <td>Lineal</td>\n",
              "      <td>1</td>\n",
              "      <td>NaN</td>\n",
              "      <td>Arroyo</td>\n",
              "      <td>900</td>\n",
              "      <td>932</td>\n",
              "      <td>ARROYO 932</td>\n",
              "      <td>LD</td>\n",
              "      <td>Fraxinus pennsylvanica</td>\n",
              "      <td>NaN</td>\n",
              "      <td>Ocupada</td>\n",
              "      <td>Regular</td>\n",
              "      <td>A nivel</td>\n",
              "      <td>9.0</td>\n",
              "      <td>29.0</td>\n",
              "    </tr>\n",
              "    <tr>\n",
              "      <th>4</th>\n",
              "      <td>-58.380710</td>\n",
              "      <td>-34.591548</td>\n",
              "      <td>31337</td>\n",
              "      <td>Lineal</td>\n",
              "      <td>1</td>\n",
              "      <td>NaN</td>\n",
              "      <td>Arroyo</td>\n",
              "      <td>900</td>\n",
              "      <td>932</td>\n",
              "      <td>ARROYO 932</td>\n",
              "      <td>LA</td>\n",
              "      <td>Jacaranda mimosifolia</td>\n",
              "      <td>NaN</td>\n",
              "      <td>Ocupada</td>\n",
              "      <td>Regular</td>\n",
              "      <td>A nivel</td>\n",
              "      <td>13.0</td>\n",
              "      <td>8.0</td>\n",
              "    </tr>\n",
              "    <tr>\n",
              "      <th>...</th>\n",
              "      <td>...</td>\n",
              "      <td>...</td>\n",
              "      <td>...</td>\n",
              "      <td>...</td>\n",
              "      <td>...</td>\n",
              "      <td>...</td>\n",
              "      <td>...</td>\n",
              "      <td>...</td>\n",
              "      <td>...</td>\n",
              "      <td>...</td>\n",
              "      <td>...</td>\n",
              "      <td>...</td>\n",
              "      <td>...</td>\n",
              "      <td>...</td>\n",
              "      <td>...</td>\n",
              "      <td>...</td>\n",
              "      <td>...</td>\n",
              "      <td>...</td>\n",
              "    </tr>\n",
              "    <tr>\n",
              "      <th>370175</th>\n",
              "      <td>NaN</td>\n",
              "      <td>NaN</td>\n",
              "      <td>546140</td>\n",
              "      <td>Lineal</td>\n",
              "      <td>15</td>\n",
              "      <td>919</td>\n",
              "      <td>Guevara</td>\n",
              "      <td>1000</td>\n",
              "      <td>1000.0</td>\n",
              "      <td>NaN</td>\n",
              "      <td>LD3</td>\n",
              "      <td>Ceiba speciosa</td>\n",
              "      <td>3.3</td>\n",
              "      <td>Ocupada</td>\n",
              "      <td>Regular</td>\n",
              "      <td>A nivel</td>\n",
              "      <td>34.0</td>\n",
              "      <td>7.0</td>\n",
              "    </tr>\n",
              "    <tr>\n",
              "      <th>370176</th>\n",
              "      <td>NaN</td>\n",
              "      <td>NaN</td>\n",
              "      <td>546141</td>\n",
              "      <td>Lineal</td>\n",
              "      <td>15</td>\n",
              "      <td>919</td>\n",
              "      <td>Guevara</td>\n",
              "      <td>1000</td>\n",
              "      <td>1000.0</td>\n",
              "      <td>NaN</td>\n",
              "      <td>LD4</td>\n",
              "      <td>Melia azedarach</td>\n",
              "      <td>3.3</td>\n",
              "      <td>Ocupada</td>\n",
              "      <td>Regular</td>\n",
              "      <td>A nivel</td>\n",
              "      <td>45.0</td>\n",
              "      <td>8.0</td>\n",
              "    </tr>\n",
              "    <tr>\n",
              "      <th>370177</th>\n",
              "      <td>NaN</td>\n",
              "      <td>NaN</td>\n",
              "      <td>546142</td>\n",
              "      <td>Lineal</td>\n",
              "      <td>15</td>\n",
              "      <td>919</td>\n",
              "      <td>Guevara</td>\n",
              "      <td>1000</td>\n",
              "      <td>1000.0</td>\n",
              "      <td>NaN</td>\n",
              "      <td>LD5</td>\n",
              "      <td>Ceiba speciosa</td>\n",
              "      <td>3.3</td>\n",
              "      <td>Ocupada</td>\n",
              "      <td>Regular</td>\n",
              "      <td>A nivel</td>\n",
              "      <td>60.0</td>\n",
              "      <td>8.0</td>\n",
              "    </tr>\n",
              "    <tr>\n",
              "      <th>370178</th>\n",
              "      <td>NaN</td>\n",
              "      <td>NaN</td>\n",
              "      <td>546143</td>\n",
              "      <td>Lineal</td>\n",
              "      <td>15</td>\n",
              "      <td>919</td>\n",
              "      <td>Guevara</td>\n",
              "      <td>1000</td>\n",
              "      <td>1000.0</td>\n",
              "      <td>NaN</td>\n",
              "      <td>LD6</td>\n",
              "      <td>Ceiba speciosa</td>\n",
              "      <td>3.3</td>\n",
              "      <td>Ocupada</td>\n",
              "      <td>Regular</td>\n",
              "      <td>A nivel</td>\n",
              "      <td>64.0</td>\n",
              "      <td>8.0</td>\n",
              "    </tr>\n",
              "    <tr>\n",
              "      <th>370179</th>\n",
              "      <td>NaN</td>\n",
              "      <td>NaN</td>\n",
              "      <td>546144</td>\n",
              "      <td>Lineal</td>\n",
              "      <td>15</td>\n",
              "      <td>919</td>\n",
              "      <td>Guevara</td>\n",
              "      <td>1000</td>\n",
              "      <td>1000.0</td>\n",
              "      <td>NaN</td>\n",
              "      <td>LD7</td>\n",
              "      <td>Ceiba speciosa</td>\n",
              "      <td>3.3</td>\n",
              "      <td>Ocupada</td>\n",
              "      <td>Regular</td>\n",
              "      <td>A nivel</td>\n",
              "      <td>61.0</td>\n",
              "      <td>8.0</td>\n",
              "    </tr>\n",
              "  </tbody>\n",
              "</table>\n",
              "<p>370180 rows × 18 columns</p>\n",
              "</div>"
            ],
            "text/plain": [
              "             long        lat  ... diametro_altura_pecho altura_arbol\n",
              "0      -58.378563 -34.594902  ...                  88.0         34.0\n",
              "1      -58.381532 -34.592319  ...                   6.0          5.0\n",
              "2      -58.379103 -34.591939  ...                   7.0          6.0\n",
              "3      -58.380710 -34.591548  ...                   9.0         29.0\n",
              "4      -58.380710 -34.591548  ...                  13.0          8.0\n",
              "...           ...        ...  ...                   ...          ...\n",
              "370175        NaN        NaN  ...                  34.0          7.0\n",
              "370176        NaN        NaN  ...                  45.0          8.0\n",
              "370177        NaN        NaN  ...                  60.0          8.0\n",
              "370178        NaN        NaN  ...                  64.0          8.0\n",
              "370179        NaN        NaN  ...                  61.0          8.0\n",
              "\n",
              "[370180 rows x 18 columns]"
            ]
          },
          "metadata": {
            "tags": []
          },
          "execution_count": 36
        }
      ]
    },
    {
      "cell_type": "markdown",
      "metadata": {
        "id": "R9ol39Dj9qoV"
      },
      "source": [
        "#**Teniendo todo listo, procedemos a realizar los ejercicios:**"
      ]
    },
    {
      "cell_type": "markdown",
      "metadata": {
        "id": "VGe2CsRvRauK"
      },
      "source": [
        "##1. ¿Cuántas especies hay en cada comuna?"
      ]
    },
    {
      "cell_type": "markdown",
      "metadata": {
        "id": "_AwJby_ImXY3"
      },
      "source": [
        "A continuación, en el siguiente código colocamos un Data Frame llamado Species. El cual es un subjunto del Data Frame original \"trees\"."
      ]
    },
    {
      "cell_type": "code",
      "metadata": {
        "id": "N3HXlQOazWHz",
        "colab": {
          "base_uri": "https://localhost:8080/"
        },
        "outputId": "c4519a4b-d58d-4ee6-e03d-035f399fe7c0"
      },
      "source": [
        "species = trees[\"nombre_cientifico\"].value_counts()\n",
        "Species = trees.loc[(trees[\"nombre_cientifico\"].isin(species.index[species > 50])) & (trees[\"nombre_cientifico\"] != \"No identificado\")]\n",
        "Species.shape"
      ],
      "execution_count": null,
      "outputs": [
        {
          "output_type": "execute_result",
          "data": {
            "text/plain": [
              "(357926, 18)"
            ]
          },
          "metadata": {
            "tags": []
          },
          "execution_count": 5
        }
      ]
    },
    {
      "cell_type": "markdown",
      "metadata": {
        "id": "vTocrKyaohoe"
      },
      "source": [
        "Luego, procedemos a dibujar un gráfico para ver, aproximadamente, cuantas especies hay en cada comuna."
      ]
    },
    {
      "cell_type": "code",
      "metadata": {
        "colab": {
          "base_uri": "https://localhost:8080/",
          "height": 404
        },
        "id": "XFDVn4TnqhgX",
        "outputId": "e6f0dd69-011a-4dee-a346-5d65b54d7acb"
      },
      "source": [
        "Species[\"comuna\"] = Species[\"comuna\"].astype(\"category\")\n",
        "sns.barplot(\n",
        "    x = \"nombre_cientifico\", y = \"comuna\",\n",
        "    data = Species[[\"comuna\", \"nombre_cientifico\"]].groupby(\"comuna\").nunique().reset_index(drop = False)\n",
        ")"
      ],
      "execution_count": null,
      "outputs": [
        {
          "output_type": "stream",
          "text": [
            "/usr/local/lib/python3.7/dist-packages/ipykernel_launcher.py:1: SettingWithCopyWarning: \n",
            "A value is trying to be set on a copy of a slice from a DataFrame.\n",
            "Try using .loc[row_indexer,col_indexer] = value instead\n",
            "\n",
            "See the caveats in the documentation: https://pandas.pydata.org/pandas-docs/stable/user_guide/indexing.html#returning-a-view-versus-a-copy\n",
            "  \"\"\"Entry point for launching an IPython kernel.\n"
          ],
          "name": "stderr"
        },
        {
          "output_type": "execute_result",
          "data": {
            "text/plain": [
              "<matplotlib.axes._subplots.AxesSubplot at 0x7f08de1a3d90>"
            ]
          },
          "metadata": {
            "tags": []
          },
          "execution_count": 11
        },
        {
          "output_type": "display_data",
          "data": {
            "image/png": "[encoded data removed]",
            "text/plain": [
              "<Figure size 432x288 with 1 Axes>"
            ]
          },
          "metadata": {
            "tags": [],
            "needs_background": "light"
          }
        }
      ]
    },
    {
      "cell_type": "markdown",
      "metadata": {
        "id": "wV8-xaBurAES"
      },
      "source": [
        "Con el gráfico dibujado, podemos ver que hay, aproximadamente, 120 especies en cada comuna. Exceptuando las comunas 2 y 3, que varían entre 80 y 100."
      ]
    },
    {
      "cell_type": "markdown",
      "metadata": {
        "id": "dsk21AhjfIoM"
      },
      "source": [
        "¿Qué hicimos? Con el método *astype* cambiamos el tipo de columna *comuna* a una variable categórica ya que esta contiene números, por lo que python cree que es una medida. Luego creamos un DataFrame el cual tiene 2 columnas, uno es el nombre de la comuna y el otro es la cantidad de especies diferentes. Por último, con el método *groupby* agrupamos todas las filas que tengan igual comuna, en este caso."
      ]
    },
    {
      "cell_type": "markdown",
      "metadata": {
        "id": "R3e3uiz43MFH"
      },
      "source": [
        "Para hacer el gráfico, usamos el comando *sns.barplot* y colocamos nombre (nombre_cientifico), y comuna (comuna) en los respectivos ejes (X, Y)."
      ]
    },
    {
      "cell_type": "markdown",
      "metadata": {
        "id": "aGe-h1McfYoy"
      },
      "source": [
        "##2. ¿Qué especie es la más común en cada comuna y con cuantos ejemplares?"
      ]
    },
    {
      "cell_type": "markdown",
      "metadata": {
        "id": "KM_UhovSXzX9"
      },
      "source": [
        "Con los siguientes códigos, vamos a responder la pregunta."
      ]
    },
    {
      "cell_type": "code",
      "metadata": {
        "colab": {
          "base_uri": "https://localhost:8080/"
        },
        "id": "F8Tr2evaYDtu",
        "outputId": "00189c72-287d-40fa-e824-cb8176578dd9"
      },
      "source": [
        "communes = trees [[\"nombre_cientifico\", \"comuna\", \"nro_registro\"]].groupby([\"comuna\", \"nombre_cientifico\"]).count().reset_index(drop = False)\n",
        "for c in communes [\"comuna\"].unique():\n",
        "  commune = communes.loc[communes[\"comuna\"] == c]\n",
        "  print(commune.loc[commune[\"nro_registro\"].idxmax()])"
      ],
      "execution_count": null,
      "outputs": [
        {
          "output_type": "stream",
          "text": [
            "comuna                                    1\n",
            "nombre_cientifico    Fraxinus pennsylvanica\n",
            "nro_registro                           4107\n",
            "Name: 63, dtype: object\n",
            "comuna                                    2\n",
            "nombre_cientifico    Fraxinus pennsylvanica\n",
            "nro_registro                           2508\n",
            "Name: 190, dtype: object\n",
            "comuna                                    3\n",
            "nombre_cientifico    Fraxinus pennsylvanica\n",
            "nro_registro                           7120\n",
            "Name: 296, dtype: object\n",
            "comuna                                    4\n",
            "nombre_cientifico    Fraxinus pennsylvanica\n",
            "nro_registro                          15306\n",
            "Name: 483, dtype: object\n",
            "comuna                                    5\n",
            "nombre_cientifico    Fraxinus pennsylvanica\n",
            "nro_registro                           6303\n",
            "Name: 685, dtype: object\n",
            "comuna                                    6\n",
            "nombre_cientifico    Fraxinus pennsylvanica\n",
            "nro_registro                           6058\n",
            "Name: 863, dtype: object\n",
            "comuna                                    7\n",
            "nombre_cientifico    Fraxinus pennsylvanica\n",
            "nro_registro                           9728\n",
            "Name: 1070, dtype: object\n",
            "comuna                                    8\n",
            "nombre_cientifico    Fraxinus pennsylvanica\n",
            "nro_registro                           6649\n",
            "Name: 1308, dtype: object\n",
            "comuna                                    9\n",
            "nombre_cientifico    Fraxinus pennsylvanica\n",
            "nro_registro                          11235\n",
            "Name: 1564, dtype: object\n",
            "comuna                                   10\n",
            "nombre_cientifico    Fraxinus pennsylvanica\n",
            "nro_registro                          11786\n",
            "Name: 1812, dtype: object\n",
            "comuna                                   11\n",
            "nombre_cientifico    Fraxinus pennsylvanica\n",
            "nro_registro                          10497\n",
            "Name: 2037, dtype: object\n",
            "comuna                                   12\n",
            "nombre_cientifico    Fraxinus pennsylvanica\n",
            "nro_registro                          13718\n",
            "Name: 2268, dtype: object\n",
            "comuna                                   13\n",
            "nombre_cientifico    Fraxinus pennsylvanica\n",
            "nro_registro                          11044\n",
            "Name: 2495, dtype: object\n",
            "comuna                                   14\n",
            "nombre_cientifico    Fraxinus pennsylvanica\n",
            "nro_registro                           7409\n",
            "Name: 2689, dtype: object\n",
            "comuna                                   15\n",
            "nombre_cientifico    Fraxinus pennsylvanica\n",
            "nro_registro                          10141\n",
            "Name: 2894, dtype: object\n"
          ],
          "name": "stdout"
        }
      ]
    },
    {
      "cell_type": "markdown",
      "metadata": {
        "id": "kMlNVHYjk7t4"
      },
      "source": [
        "Para importar este código, primero creamos la variable *communes* que, mediante el dataset de arbolado, está compuesta por el nombre científico del arbol, la comuna y el número de registro. Luego, agrupamos (con el método *groupby* visto en el anterior ejercicio) todas las filas que tengan igual comuna y nombre científico. \n",
        "\n",
        "Usamos el comando *For* para ejecutar varias veces el mismo bloque de código para una lista de valores, en este caso son las comunas. \n",
        "\n",
        "Con el método loc filtramos un Data Frame que tenga el valor verdadero solo en las filas que queremos mantener, que son las comunas de la variable *communes*.\n",
        "\n",
        "Por último, imprimimos ( o sea usamos el comando print) nuestra variable con el número de registro del árbol."
      ]
    },
    {
      "cell_type": "markdown",
      "metadata": {
        "id": "LyMkoOWuYlzS"
      },
      "source": [
        "####**Teniendo estos datos, podemos decir que la especie más común en cada comuna es la Fraxinus pennsylvanica con un total de 133609 ejemplares**"
      ]
    },
    {
      "cell_type": "markdown",
      "metadata": {
        "id": "vXknXlV6ZY5r"
      },
      "source": [
        "##3. ¿Existe alguna relación entre el número de la comuna y el diámetro de los árboles?"
      ]
    },
    {
      "cell_type": "markdown",
      "metadata": {
        "id": "Pe8x2G_iZqRz"
      },
      "source": [
        "Con el siguiente código, similar a los del anterior ejercicio, estaremos dibujando un gráfico en el cual podremos averiguar si existe dicha relación."
      ]
    },
    {
      "cell_type": "code",
      "metadata": {
        "id": "smzsjhbQZzJP",
        "colab": {
          "base_uri": "https://localhost:8080/",
          "height": 278
        },
        "outputId": "3133a88b-5751-42fc-8b35-20beb0cc7467"
      },
      "source": [
        "heightCommunes = trees[[\"comuna\", \"altura_arbol\", \"diametro_altura_pecho\"]].groupby([\"comuna\", \"diametro_altura_pecho\"]).mean()\n",
        "heightCommunes.reset_index(drop = False, inplace = True)\n",
        "plot = sns.scatterplot(\n",
        "    data = heightCommunes, x = \"comuna\", y = \"diametro_altura_pecho\", hue = \"altura_arbol\",\n",
        "    legend = False\n",
        "\n",
        ")"
      ],
      "execution_count": null,
      "outputs": [
        {
          "output_type": "display_data",
          "data": {
            "image/png": "[encoded data removed]",
            "text/plain": [
              "<Figure size 432x288 with 1 Axes>"
            ]
          },
          "metadata": {
            "tags": [],
            "needs_background": "light"
          }
        }
      ]
    },
    {
      "cell_type": "markdown",
      "metadata": {
        "id": "TWoxoaFx_Jd_"
      },
      "source": [
        "Teniendo este gráfico, se puede ver que existe una relación entre el número de comuna y el diámetro de los árboles. Entonces, la respuesta a la pregunta es si."
      ]
    },
    {
      "cell_type": "markdown",
      "metadata": {
        "id": "GekWwJ5Rg9y9"
      },
      "source": [
        "##4. ¿Cuál es el top 10 de especies que, en promedio, tienen mayor diámetro?¿En qué calle hay más ejemplares de cada uno?"
      ]
    },
    {
      "cell_type": "markdown",
      "metadata": {
        "id": "N_Fa_PismMQs"
      },
      "source": [
        "En el siguiente bloque, importo el código necesario para obtener los datos que nos permitirán responder la pregunta."
      ]
    },
    {
      "cell_type": "code",
      "metadata": {
        "colab": {
          "base_uri": "https://localhost:8080/"
        },
        "id": "6ZhqL_zihlSE",
        "outputId": "aaa0d084-76e7-40b2-e444-c7284fabb639"
      },
      "source": [
        "species = trees[[\"nombre_cientifico\", \"diametro_altura_pecho\"]].groupby(\"nombre_cientifico\").mean()\n",
        "species.sort_values(by = \"diametro_altura_pecho\", inplace = True, ascending = False)\n",
        "pos = 1\n",
        "for specie, row, in species[:10].iterrows():\n",
        "  print(\"\\nPos {}.\".format(pos))\n",
        "  print(\"{} con un diámetro de {}\".format(specie, row.diametro_altura_pecho))\n",
        "  street = trees.loc[trees[\"nombre_cientifico\"] == specie, \"calle_nombre\"].value_counts().index[0]\n",
        "  print(\"La mayor cantidad de ejemplares se encuentra en la calle {}\".format(street))\n",
        "  pos += 1"
      ],
      "execution_count": null,
      "outputs": [
        {
          "output_type": "stream",
          "text": [
            "\n",
            "Pos 1.\n",
            "Sterculia coccinea con un diámetro de 85.0\n",
            "La mayor cantidad de ejemplares se encuentra en la calle Díaz Cnel. Av.\n",
            "\n",
            "Pos 2.\n",
            "Eucalyptus tereticornis con un diámetro de 81.8\n",
            "La mayor cantidad de ejemplares se encuentra en la calle Irigoyen\n",
            "\n",
            "Pos 3.\n",
            "Salix alba con un diámetro de 80.5\n",
            "La mayor cantidad de ejemplares se encuentra en la calle Santa Elena\n",
            "\n",
            "Pos 4.\n",
            "Tristania conferta con un diámetro de 76.0\n",
            "La mayor cantidad de ejemplares se encuentra en la calle Superí\n",
            "\n",
            "Pos 5.\n",
            "Caryota urens con un diámetro de 75.0\n",
            "La mayor cantidad de ejemplares se encuentra en la calle Jaramillo\n",
            "\n",
            "Pos 6.\n",
            "Ulmus sp. con un diámetro de 73.0\n",
            "La mayor cantidad de ejemplares se encuentra en la calle Alvarez Jonte Av.\n",
            "\n",
            "Pos 7.\n",
            "Eucalyptus camaldulensis con un diámetro de 68.96116504854369\n",
            "La mayor cantidad de ejemplares se encuentra en la calle Paz Gral. Av.\n",
            "\n",
            "Pos 8.\n",
            "Cocus nucifera con un diámetro de 65.0\n",
            "La mayor cantidad de ejemplares se encuentra en la calle Bergantín Gral. Belgrano\n",
            "\n",
            "Pos 9.\n",
            "Eucalyptus robusta con un diámetro de 64.0\n",
            "La mayor cantidad de ejemplares se encuentra en la calle Chávez Jorge \n",
            "\n",
            "Pos 10.\n",
            "Ficus aspera con un diámetro de 64.0\n",
            "La mayor cantidad de ejemplares se encuentra en la calle Jovellanos Melchor Gaspar de\n"
          ],
          "name": "stdout"
        }
      ]
    },
    {
      "cell_type": "markdown",
      "metadata": {
        "id": "BWT6YnfDl8Er"
      },
      "source": [
        "¿Como lo hicimos? Bueno, primero establecemos las columnas que vamos a utilizar a la variable *species*, que en este caso son \"nombre_cientifico\" y \"diametro_altura_pecho\". Agrupamos los datos de diametro_altura_pecho y usamos el metodo *.mean()* para obtener una media aritmética de esos datos.\n",
        "\n",
        "Luego, empleamos el método *sort_values*, que lo que permite es ordenar el DataFrame en orden ascendente o descendente por los valores de la columna especificada a lo largo de cualquiera de los índices, aquí no es ascendente (o sea es False).\n",
        "\n",
        "Pasamos al método For, que, como lo hemos explicado antes, sirve para ejecutar varias veces el mismo bloque de código para una lista de valores, en este caso ejecutaremos por cada especie, en filas, en los 10 primeros datos de la variable Species.\n",
        "\n",
        "Por último, con print(), imprimimos el desarrollo de la respuesta, sin antes emplear los métodos *format*, que, según la definición de Python, devuelve una representación formateada de un valor dato controlado por el especificador de formato."
      ]
    },
    {
      "cell_type": "markdown",
      "metadata": {
        "id": "rInvrrTalxWu"
      },
      "source": [
        "##5. ¿Cual es la calle con más árboles? ¿Por cuántas comunas pasa?"
      ]
    },
    {
      "cell_type": "markdown",
      "metadata": {
        "id": "7nsXfBQVl4kj"
      },
      "source": [
        "Como en los ejercicios anteriores, importamos el bloque de códigos necesario para poder responder, con los datos correspondientes, las preguntas del ejercicio."
      ]
    },
    {
      "cell_type": "code",
      "metadata": {
        "colab": {
          "base_uri": "https://localhost:8080/",
          "height": 35
        },
        "id": "dXmjkBK8N2dN",
        "outputId": "a187e660-7bc4-4234-f7cf-dd6ea6495dc9"
      },
      "source": [
        "streets = trees[[\"calle_nombre\", \"nombre_cientifico\"]].groupby(\"calle_nombre\").count().reset_index(drop = False)\n",
        "street = streets.loc[streets[\"nombre_cientifico\"].idxmax()]\n",
        "communes = trees.loc[trees[\"calle_nombre\"] == street.calle_nombre,\"comuna\"].nunique()\n",
        "\"La calle con más árboles es {} con {} árboles, y pasa por {} comunas.\".format(street.calle_nombre, street.nombre_cientifico, communes)"
      ],
      "execution_count": null,
      "outputs": [
        {
          "output_type": "execute_result",
          "data": {
            "application/vnd.google.colaboratory.intrinsic+json": {
              "type": "string"
            },
            "text/plain": [
              "'La calle con más árboles es Del Libertador, Av con 1267 árboles, y pasa por 4 comunas.'"
            ]
          },
          "metadata": {
            "tags": []
          },
          "execution_count": 16
        }
      ]
    },
    {
      "cell_type": "markdown",
      "metadata": {
        "id": "acSZ-vudPVmT"
      },
      "source": [
        "Este bloque de códigos es muy similar a los antes vistos, veamos que hicimos en orden:\n",
        "\n",
        "1.   Del DataFrame *trees*, usamos las columnas \"calle_nombre\" y \"nombre_cientifico\" para nuestra nueva variable: *streets*.\n",
        "\n",
        "2.   Agrupamos con el método *groupby* los datos de la columna \"calle_nombre\", y a su vez empleamos el comando *count()*\n",
        "\n",
        "3.   Usamos el método *loc* para filtrar un DataFrame con la primera variable, sumando la función *idxmax*, que devuelve el índice del valor máximo en filas o columnas, que en este caso es \"nombre_cientifico.\n",
        "\n",
        "4.   Nuevamente crearemos otro DataFrame con el método visto en el paso anterior, pero con la diferencia de que agregaremos la columna \"comuna\" del df de trees.\n",
        "\n",
        "5.   Por último, escribimos un texto formulando la respuesta, dejando espacios entre llaves para que, posteriormente, las rellenemos con los datos correspondientes, ¿Cómo lo hacemos? Utilizando el método *.format*, y luego ubicamos los datos necesarios en el orden correcto."
      ]
    },
    {
      "cell_type": "markdown",
      "metadata": {
        "id": "lWd13Po2PVcr"
      },
      "source": [
        "##6. ¿Que caracteristica tiene la columna \"calle_nombre\"? ¿y la columna \"nivel_plantera\"?"
      ]
    },
    {
      "cell_type": "markdown",
      "metadata": {
        "id": "SCN1Tu94PnPY"
      },
      "source": [
        "Importamos el bloque de códigos."
      ]
    },
    {
      "cell_type": "code",
      "metadata": {
        "colab": {
          "base_uri": "https://localhost:8080/",
          "height": 167
        },
        "id": "xS5CEjCiDPLu",
        "outputId": "8e27977b-37f9-4cfc-83af-af9d8770ae32"
      },
      "source": [
        "callenombre = tress[\"calle_nombre\"].groupby(\"calle_nombre\").count().reset_index(drop = False)"
      ],
      "execution_count": 39,
      "outputs": [
        {
          "output_type": "error",
          "ename": "NameError",
          "evalue": "ignored",
          "traceback": [
            "\u001b[0;31m---------------------------------------------------------------------------\u001b[0m",
            "\u001b[0;31mNameError\u001b[0m                                 Traceback (most recent call last)",
            "\u001b[0;32m<ipython-input-39-f9f14d5b2cce>\u001b[0m in \u001b[0;36m<module>\u001b[0;34m()\u001b[0m\n\u001b[0;32m----> 1\u001b[0;31m \u001b[0mcallenombre\u001b[0m \u001b[0;34m=\u001b[0m \u001b[0mtress\u001b[0m\u001b[0;34m[\u001b[0m\u001b[0;34m\"calle_nombre\"\u001b[0m\u001b[0;34m]\u001b[0m\u001b[0;34m.\u001b[0m\u001b[0mgroupby\u001b[0m\u001b[0;34m(\u001b[0m\u001b[0;34m\"calle_nombre\"\u001b[0m\u001b[0;34m)\u001b[0m\u001b[0;34m.\u001b[0m\u001b[0mcount\u001b[0m\u001b[0;34m(\u001b[0m\u001b[0;34m)\u001b[0m\u001b[0;34m.\u001b[0m\u001b[0mreset_index\u001b[0m\u001b[0;34m(\u001b[0m\u001b[0mdrop\u001b[0m \u001b[0;34m=\u001b[0m \u001b[0;32mFalse\u001b[0m\u001b[0;34m)\u001b[0m\u001b[0;34m\u001b[0m\u001b[0;34m\u001b[0m\u001b[0m\n\u001b[0m",
            "\u001b[0;31mNameError\u001b[0m: name 'tress' is not defined"
          ]
        }
      ]
    },
    {
      "cell_type": "code",
      "metadata": {
        "colab": {
          "base_uri": "https://localhost:8080/"
        },
        "id": "cN-e9y5d-EXI",
        "outputId": "68e3d610-48a5-40dd-e5fe-667c05112670"
      },
      "source": [
        "trees[\"calle_nombre\"].describe()"
      ],
      "execution_count": 33,
      "outputs": [
        {
          "output_type": "execute_result",
          "data": {
            "text/plain": [
              "count                 370087\n",
              "unique                  2334\n",
              "top       Del Libertador, Av\n",
              "freq                    1267\n",
              "Name: calle_nombre, dtype: object"
            ]
          },
          "metadata": {
            "tags": []
          },
          "execution_count": 33
        }
      ]
    },
    {
      "cell_type": "code",
      "metadata": {
        "colab": {
          "base_uri": "https://localhost:8080/"
        },
        "id": "XJDk70Z5Ck8r",
        "outputId": "96e98201-4038-465e-96c2-2d3725a49ebd"
      },
      "source": [
        "trees[\"nivel_plantera\"].describe()"
      ],
      "execution_count": 32,
      "outputs": [
        {
          "output_type": "execute_result",
          "data": {
            "text/plain": [
              "count      368828\n",
              "unique         26\n",
              "top       A nivel\n",
              "freq       232099\n",
              "Name: nivel_plantera, dtype: object"
            ]
          },
          "metadata": {
            "tags": []
          },
          "execution_count": 32
        }
      ]
    }
  ]
}